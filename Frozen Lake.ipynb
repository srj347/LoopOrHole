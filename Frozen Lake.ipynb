{
 "cells": [
  {
   "cell_type": "code",
   "execution_count": 1,
   "metadata": {},
   "outputs": [],
   "source": [
    "import numpy as np\n",
    "import random\n",
    "import time\n",
    "import gym\n",
    "from IPython.display import clear_output\n"
   ]
  },
  {
   "cell_type": "code",
   "execution_count": 2,
   "metadata": {},
   "outputs": [],
   "source": [
    "env=gym.make(\"FrozenLake-v0\")"
   ]
  },
  {
   "cell_type": "code",
   "execution_count": 3,
   "metadata": {},
   "outputs": [],
   "source": [
    "action_space_size=env.action_space.n\n",
    "state_space_size=env.observation_space.n\n",
    "q_table=np.zeros((state_space_size,action_space_size))"
   ]
  },
  {
   "cell_type": "markdown",
   "metadata": {},
   "source": []
  },
  {
   "cell_type": "code",
   "execution_count": 11,
   "metadata": {},
   "outputs": [],
   "source": [
    "num_episodes=10000\n",
    "max_steps=100\n",
    "learning_rate=0.1\n",
    "discount_rate=0.99\n",
    "\n",
    "exploration_rate=1\n",
    "max_exploration_rate=1\n",
    "min_exploration_rate=0.01\n",
    "exploration_decay_rate=0.001"
   ]
  },
  {
   "cell_type": "code",
   "execution_count": 12,
   "metadata": {},
   "outputs": [],
   "source": [
    "reward_all_episodes=[]\n",
    "for episodes in range(num_episodes):\n",
    "    state = env.reset()\n",
    "    done=False\n",
    "    reward_current_episode=0\n",
    "    for step in range(max_steps):\n",
    "        exploration_threshold=random.uniform(0,1)\n",
    "        if exploration_threshold>exploration_rate:\n",
    "            action=np.argmax(q_table[state,:])\n",
    "        else:\n",
    "            action=env.action_space.sample()\n",
    "        new_state,reward,done,info=env.step(action)\n",
    "        q_table[state,action]=q_table[state,action]*(1-learning_rate)+learning_rate*(reward+discount_rate*np.max(q_table[new_state,:]))\n",
    "        state=new_state\n",
    "        reward_current_episode+=reward\n",
    "        if done:\n",
    "            break\n",
    "    exploration_rate=min_exploration_rate+(max_exploration_rate-min_exploration_rate)*np.exp(-exploration_decay_rate*episodes)\n",
    "    reward_all_episodes.append(reward_current_episode)\n"
   ]
  },
  {
   "cell_type": "code",
   "execution_count": null,
   "metadata": {},
   "outputs": [],
   "source": []
  },
  {
   "cell_type": "code",
   "execution_count": 13,
   "metadata": {},
   "outputs": [
    {
     "name": "stdout",
     "output_type": "stream",
     "text": [
      "1000 : 0.04200000000000003\n",
      "2000 : 0.22600000000000017\n",
      "3000 : 0.4130000000000003\n",
      "4000 : 0.5460000000000004\n",
      "5000 : 0.6560000000000005\n",
      "6000 : 0.6760000000000005\n",
      "7000 : 0.6860000000000005\n",
      "8000 : 0.6850000000000005\n",
      "9000 : 0.6780000000000005\n",
      "10000 : 0.6930000000000005\n"
     ]
    }
   ],
   "source": [
    "reward_per_thousand_episode=np.split(np.array(reward_all_episodes),num_episodes/1000)\n",
    "count=1000\n",
    "for r in reward_per_thousand_episode:\n",
    "    print(count,':' ,str(sum(r/1000)))\n",
    "    count+=1000\n"
   ]
  },
  {
   "cell_type": "code",
   "execution_count": 14,
   "metadata": {},
   "outputs": [],
   "source": [
    "for episodes in range(3):\n",
    "    state=env.reset()\n",
    "    done=False\n",
    "    print(\"episode\",episodes+1)\n",
    "    time.sleep(3)\n",
    "    for step in range(max_steps):\n",
    "        clear_output(wait=True)\n",
    "        env.render()\n",
    "        time.sleep(0.3)\n",
    "        action=np.argmax(q_table[state,:])\n",
    "        new_state,reward,done,info=env.step(action)\n",
    "        if done:\n",
    "            clear_output(wait=True)\n",
    "            env.render()\n",
    "            if reward==1:\n",
    "                print(\"won\")\n",
    "                clear_output(wait=True)\n",
    "                time.sleep(3)\n",
    "            else:\n",
    "                print(\"fail\")\n",
    "                time.sleep(3)\n",
    "            clear_output(wait=True)\n",
    "            break;\n",
    "        state=new_state\n",
    "env.close()"
   ]
  },
  {
   "cell_type": "code",
   "execution_count": null,
   "metadata": {},
   "outputs": [],
   "source": []
  }
 ],
 "metadata": {
  "kernelspec": {
   "display_name": "Python 3",
   "language": "python",
   "name": "python3"
  },
  "language_info": {
   "codemirror_mode": {
    "name": "ipython",
    "version": 3
   },
   "file_extension": ".py",
   "mimetype": "text/x-python",
   "name": "python",
   "nbconvert_exporter": "python",
   "pygments_lexer": "ipython3",
   "version": "3.8.2"
  }
 },
 "nbformat": 4,
 "nbformat_minor": 4
}
